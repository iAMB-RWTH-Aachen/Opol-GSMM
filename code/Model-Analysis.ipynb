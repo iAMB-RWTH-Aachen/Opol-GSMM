{
 "cells": [
  {
   "cell_type": "markdown",
   "metadata": {},
   "source": [
    "# Model Analysis\n",
    "\n",
    "The script guides through the counting of reactions in each compartment and the generation of the Venn diagramm for reaction overlap of the two K. phaffii models iMT1026, iRY1243 and the O. polymorpha model iUL909."
   ]
  },
  {
   "cell_type": "code",
   "execution_count": 1,
   "metadata": {},
   "outputs": [],
   "source": [
    "import sys # loading commands to control/navigate within the system architecture\n",
    "# Loading pandas, a library for data manipulation\n",
    "import os\n",
    "import xlrd\n",
    "import pandas as pd\n",
    "import re\n",
    "# import lxml\n",
    "\n",
    "# Loading numpy, a library fo manipulation of numbers\n",
    "import numpy as np\n",
    "\n",
    "# loading matplotlib, a library for visualization\n",
    "import matplotlib.pyplot as plt\n",
    "%matplotlib inline\n",
    "\n",
    "# loading cobrapy, a library dedicated to the analysis of genome scale metabolic models\n",
    "from cobra.io import read_sbml_model, write_sbml_model\n",
    "from cobra import Reaction, Metabolite\n",
    "\n",
    "# additional functions to count and assign reaction in compartments"
   ]
  },
  {
   "cell_type": "code",
   "execution_count": 2,
   "metadata": {},
   "outputs": [],
   "source": [
    "def countCinFormula(formula):\n",
    "    '''\n",
    "    Counting C-atoms of metabolite in cobra model\n",
    "    \n",
    "    Argument:\n",
    "    formula: string, the metabolite formula from the cobra model\n",
    "    \n",
    "    Return:\n",
    "    int, number of C-atoms in formula\n",
    "    '''\n",
    "    return int(re.search(r'C(.*)H',formula).group(1)) if re.search(r'C(.*)H',formula).group(1) else int(1)\n",
    "\n",
    "def set_ObjGSMM(model, Product):\n",
    "    '''\n",
    "    Adding boundary flux for a desired product and setting the objective reaction to the product in the model.\n",
    "    \n",
    "    Arguments:\n",
    "    model: cobra model, iUma22\n",
    "    Product: string, model metabolite ID\n",
    "    \n",
    "    Return:\n",
    "    cobra model, updated with a demand flow for the product and optimization of the new demand reaction.\n",
    "    '''\n",
    "    model.add_boundary(model.metabolites.get_by_id(Product), type='demand')\n",
    "    model.objective = 'DM_{}'.format(Product)\n",
    "    return model\n",
    "\n",
    "def set_SubiOpol(model, Sub, Flux):\n",
    "    '''\n",
    "    Setting the desired substrate in the model.\n",
    "    \n",
    "    Arguments:\n",
    "    model: cobra model, iOpol909\n",
    "    Sub: string/list, model metabolite ID\n",
    "    Flux: float, desired substrate uptake rate\n",
    "    \n",
    "    Return:\n",
    "    cobra model, updated with designed (co-) substrate uptake rates.\n",
    "    '''\n",
    "    model.reactions.get_by_id('Ex_glc_D').lower_bound = 0\n",
    "    model.reactions.get_by_id('Ex_{}'.format(Sub[0])).lower_bound = -Flux\n",
    "    return model"
   ]
  },
  {
   "cell_type": "code",
   "execution_count": 11,
   "metadata": {},
   "outputs": [],
   "source": [
    "# generating cobra variable from SBML/xml file\n",
    "# assuming the base path is in 'Simulation'\n",
    "iUL909_File = os.path.join('..','model','iUL909.xml') # os.path.join('..','iUL_versions','iUL959_112718.xml')\n",
    "model = read_sbml_model(iUL909_File)\n",
    "\n",
    "# iMT1026_File = os.path.join('..','data','ReferenceModels','iMT1026v3.xml') # os.path.join('..','iUL_versions','iUL959_112718.xml')\n",
    "# iMT1026 = read_sbml_model(iMT1026_File)\n",
    "\n",
    "# iRY1243_File = os.path.join('..','data','ReferenceModels','iRY1243.xml') # os.path.join('..','iUL_versions','iUL959_112718.xml')\n",
    "# iRY1243 = read_sbml_model(iRY1243_File)\n"
   ]
  },
  {
   "cell_type": "markdown",
   "metadata": {},
   "source": [
    "## Finding metabolites in model"
   ]
  },
  {
   "cell_type": "code",
   "execution_count": 33,
   "metadata": {},
   "outputs": [
    {
     "name": "stdout",
     "output_type": "stream",
     "text": [
      "4-Maleylacetoacetate:\t4mlacac[c]:\tC8H6O6:\t{'kegg.compound': 'C01036', 'pubchem.compound': '5280393', 'bigg.metabolite': '4mlacac_c', 'metanetx.chemical': 'MNXM691', 'inchi': 'InChI=1S/C8H8O6/c9-5(1-2-7(11)12)3-6(10)4-8(13)14/h1-2H,3-4H2,(H,11,12)(H,13,14)/b2-1-', 'inchikey': 'GACSIVHAIFQKTC-UPHRSURJSA-N', 'sbo': 'SBO:SBO:0000247'}\n",
      "\n",
      "Malonyl-[acyl-carrier protein]:\tmalACP[c]:\tC3H2O3SR:\t{'kegg.compound': 'C01209', 'bigg.metabolite': 'malACP_c', 'sbo': 'SBO:SBO:0000247'}\n",
      "\n",
      "Malonyl-[acyl-carrier protein]:\tmalACP[m]:\tC3H2O3SR:\t{'kegg.compound': 'C01209', 'bigg.metabolite': 'malACP_m', 'sbo': 'SBO:SBO:0000247'}\n",
      "\n",
      "L-Malate:\tmal_L[c]:\tC4H4O5:\t{'kegg.compound': 'C00149', 'pubchem.compound': '222656', 'bigg.metabolite': 'mal_L_c', 'metanetx.chemical': 'MNXM98', 'inchi': 'InChI=1S/C4H6O5/c5-2(4(8)9)1-3(6)7/h2,5H,1H2,(H,6,7)(H,8,9)/t2-/m0/s1', 'inchikey': 'BJEPYKJPYRNKOW-REOHCLBHSA-N', 'sbo': 'SBO:SBO:0000247'}\n",
      "\n",
      "L-Malate:\tmal_L[e]:\tC4H4O5:\t{'kegg.compound': 'C00149', 'pubchem.compound': '222656', 'bigg.metabolite': 'mal_L_e', 'metanetx.chemical': 'MNXM98', 'inchi': 'InChI=1S/C4H6O5/c5-2(4(8)9)1-3(6)7/h2,5H,1H2,(H,6,7)(H,8,9)/t2-/m0/s1', 'inchikey': 'BJEPYKJPYRNKOW-REOHCLBHSA-N', 'sbo': 'SBO:SBO:0000247'}\n",
      "\n",
      "L-Malate:\tmal_L[m]:\tC4H4O5:\t{'kegg.compound': 'C00149', 'pubchem.compound': '222656', 'bigg.metabolite': 'mal_L_m', 'metanetx.chemical': 'MNXM98', 'inchi': 'InChI=1S/C4H6O5/c5-2(4(8)9)1-3(6)7/h2,5H,1H2,(H,6,7)(H,8,9)/t2-/m0/s1', 'inchikey': 'BJEPYKJPYRNKOW-REOHCLBHSA-N', 'sbo': 'SBO:SBO:0000247'}\n",
      "\n",
      "L-Malate:\tmal_L[x]:\tC4H4O5:\t{'kegg.compound': 'C00149', 'pubchem.compound': '222656', 'bigg.metabolite': 'mal_L_x', 'metanetx.chemical': 'MNXM98', 'inchi': 'InChI=1S/C4H6O5/c5-2(4(8)9)1-3(6)7/h2,5H,1H2,(H,6,7)(H,8,9)/t2-/m0/s1', 'inchikey': 'BJEPYKJPYRNKOW-REOHCLBHSA-N', 'sbo': 'SBO:SBO:0000247'}\n",
      "\n",
      "Malonyl-CoA:\tmalcoa[c]:\tC24H33N7O19P3S:\t{'kegg.compound': 'C00083', 'pubchem.compound': '10663', 'bigg.metabolite': 'malcoa_c', 'metanetx.chemical': 'MNXM40', 'inchi': 'InChI=1S/C24H38N7O19P3S/c1-24(2,19(37)22(38)27-4-3-13(32)26-5-6-54-15(35)7-14(33)34)9-47-53(44,45)50-52(42,43)46-8-12-18(49-51(39,40)41)17(36)23(48-12)31-11-30-16-20(25)28-10-29-21(16)31/h10-12,17-19,23,36-37H,3-9H2,1-2H3,(H,26,32)(H,27,38)(H,33,34)(H,42,43)(H,44,45)(H2,25,28,29)(H2,39,40,41)/t12-,17-,18-,19+,23-/m1/s1', 'inchikey': 'LTYOQGRJFJAKNA-DVVLENMVSA-N', 'sbo': 'SBO:SBO:0000247'}\n",
      "\n",
      "Malonyl-CoA:\tmalcoa[m]:\tC24H33N7O19P3S:\t{'kegg.compound': 'C00083', 'pubchem.compound': '10663', 'bigg.metabolite': 'malcoa_m', 'metanetx.chemical': 'MNXM40', 'inchi': 'InChI=1S/C24H38N7O19P3S/c1-24(2,19(37)22(38)27-4-3-13(32)26-5-6-54-15(35)7-14(33)34)9-47-53(44,45)50-52(42,43)46-8-12-18(49-51(39,40)41)17(36)23(48-12)31-11-30-16-20(25)28-10-29-21(16)31/h10-12,17-19,23,36-37H,3-9H2,1-2H3,(H,26,32)(H,27,38)(H,33,34)(H,42,43)(H,44,45)(H2,25,28,29)(H2,39,40,41)/t12-,17-,18-,19+,23-/m1/s1', 'inchikey': 'LTYOQGRJFJAKNA-DVVLENMVSA-N', 'sbo': 'SBO:SBO:0000247'}\n",
      "\n",
      "Maltose:\tmalt[c]:\tC12H22O11:\t{'kegg.compound': 'C00208', 'pubchem.compound': '439186', 'bigg.metabolite': 'malt_c', 'metanetx.chemical': 'MNXM165', 'inchi': 'InChI=1S/C12H22O11/c13-1-3-5(15)6(16)9(19)12(22-3)23-10-4(2-14)21-11(20)8(18)7(10)17/h3-20H,1-2H2/t3-,4-,5-,6+,7-,8-,9-,10-,11?,12-/m1/s1', 'inchikey': 'GUBGYTABKSRVRQ-PICCSMPSSA-N', 'sbo': 'SBO:SBO:0000247'}\n",
      "\n",
      "Maltose:\tmalt[e]:\tC12H22O11:\t{'kegg.compound': 'C00208', 'pubchem.compound': '439186', 'bigg.metabolite': 'malt_e', 'metanetx.chemical': 'MNXM165', 'inchi': 'InChI=1S/C12H22O11/c13-1-3-5(15)6(16)9(19)12(22-3)23-10-4(2-14)21-11(20)8(18)7(10)17/h3-20H,1-2H2/t3-,4-,5-,6+,7-,8-,9-,10-,11?,12-/m1/s1', 'inchikey': 'GUBGYTABKSRVRQ-PICCSMPSSA-N', 'sbo': 'SBO:SBO:0000247'}\n",
      "\n",
      "Maltitol:\tmaltl[e]:\tC12H24O11:\t{}\n",
      "\n",
      "Maltotriose:\tmtose[c]:\tC18H32O16:\t{'kegg.compound': 'C01835', 'pubchem.compound': '439586', 'biocyc': 'MALTOTRIOSE', 'bigg.metabolite': 'mtose_c', 'metanetx.chemical': 'MNXM468', 'inchi': 'InChI=1S/C18H32O16/c19-1-4-7(22)8(23)12(27)17(31-4)34-15-6(3-21)32-18(13(28)10(15)25)33-14-5(2-20)30-16(29)11(26)9(14)24/h4-29H,1-3H2/t4-,5-,6-,7-,8+,9-,10-,11-,12-,13-,14-,15-,16?,17-,18-/m1/s1', 'inchikey': 'FYGDTMLNYKFZSV-DZOUCCHMSA-N', 'sbo': 'SBO:SBO:0000247'}\n",
      "\n",
      "Maltotriose:\tmtose[e]:\tC18H32O16:\t{'kegg.compound': 'C01835', 'pubchem.compound': '439586', 'biocyc': 'MALTOTRIOSE', 'bigg.metabolite': 'mtose_e', 'metanetx.chemical': 'MNXM468', 'inchi': 'InChI=1S/C18H32O16/c19-1-4-7(22)8(23)12(27)17(31-4)34-15-6(3-21)32-18(13(28)10(15)25)33-14-5(2-20)30-16(29)11(26)9(14)24/h4-29H,1-3H2/t4-,5-,6-,7-,8+,9-,10-,11-,12-,13-,14-,15-,16?,17-,18-/m1/s1', 'inchikey': 'FYGDTMLNYKFZSV-DZOUCCHMSA-N', 'sbo': 'SBO:SBO:0000247'}\n",
      "\n"
     ]
    }
   ],
   "source": [
    "# Searching for metabolite IDs\n",
    "CheckMet = 'Mal'\n",
    "[print('{}:\\t{}:\\t{}:\\t{}\\n'.format(MetID.name, MetID.id, MetID.formula, MetID.annotation)) for MetID in model.metabolites.query(CheckMet, 'name')];"
   ]
  },
  {
   "cell_type": "markdown",
   "metadata": {},
   "source": [
    "## Adding Isoprene synthesis reaction"
   ]
  },
  {
   "cell_type": "code",
   "execution_count": 12,
   "metadata": {},
   "outputs": [
    {
     "name": "stdout",
     "output_type": "stream",
     "text": [
      "IPSYN\n",
      "ipdp[c] --> isoprene[c] + ppi[c]\n",
      "{}\n"
     ]
    }
   ],
   "source": [
    "# https://biocyc.org/META/NEW-IMAGE?type=REACTION-IN-PATHWAY&object=4.2.3.27-RXN\n",
    "# 10.1007/s00253-018-9200-5\n",
    "# https://doi.org/10.1073/pnas.1812935116\n",
    "\n",
    "ID = 'IPSYN'\n",
    "if ID not in model.reactions:\n",
    "    reaction = Reaction(ID)\n",
    "    reaction.name = ''\n",
    "    reaction.lower_bound = 0.\n",
    "    reaction.upper_bound = 1000.\n",
    "#     reaction.annotation = {'biocyc': 'FUCISOM-RXN', 'brenda': '5.3.1.25'}\n",
    "    IP = Metabolite(\n",
    "        'isoprene[c]',\n",
    "        formula = 'C5H8',\n",
    "        name = 'Isoprene',\n",
    "        charge = 0,\n",
    "        compartment = 'c',\n",
    "    )\n",
    "#     IP.annotation = {'biocyc':'CPD-10329', 'chebi':'42548', 'chemspider':'388645', 'drugbank':'DB04473', 'inchi':'InChI=1S/C6H12O5/c1-2-3(7)4(8)5(9)6(10)11-2/h2-10H,1H3/t2-,3+,4+,5-,6+/m0/s1', 'kegg.compound':'C20835', 'pubchem':'439554'}    \n",
    "    IPP = model.metabolites.get_by_id('ipdp[c]')\n",
    "    DP = model.metabolites.get_by_id('ppi[c]')\n",
    "    reaction.add_metabolites({IPP:-1., IP:1., DP:1.})\n",
    "    model.add_reactions([reaction])\n",
    "\n",
    "    print(model.reactions.get_by_id(ID).id)\n",
    "    print(model.reactions.get_by_id(ID).reaction)\n",
    "    print(model.reactions.get_by_id(ID).check_mass_balance())"
   ]
  },
  {
   "cell_type": "markdown",
   "metadata": {},
   "source": [
    "## Counting reactions in compartments"
   ]
  },
  {
   "cell_type": "code",
   "execution_count": 43,
   "metadata": {},
   "outputs": [],
   "source": [
    "atpm = np.linspace(.4,50,10)\n",
    "Substrate = 'meoh'\n",
    "Product = 'succ[c]' #isoprene\n",
    "Cnum = countCinFormula(model.metabolites.get_by_id(Product).formula)\n",
    "IP_List = list()\n",
    "flux=10\n",
    "for atpmi in atpm:\n",
    "    with model as md:\n",
    "        md.reactions.get_by_id('ATPM').lower_bound = atpmi\n",
    "        md = set_ObjGSMM(md, Product)\n",
    "        md = set_SubiOpol(md, [Substrate], flux)\n",
    "        sol = md.optimize()\n",
    "        Yield = sol.fluxes['DM_{}'.format(Product)]*Cnum/flux\n",
    "        IP_List.append([atpmi, Yield])"
   ]
  },
  {
   "cell_type": "code",
   "execution_count": 44,
   "metadata": {},
   "outputs": [
    {
     "name": "stdout",
     "output_type": "stream",
     "text": [
      "-0.020904731711183306 1.05577221209479\n"
     ]
    },
    {
     "data": {
      "text/plain": [
       "<matplotlib.collections.PathCollection at 0x7f59f8cc4b80>"
      ]
     },
     "execution_count": 44,
     "metadata": {},
     "output_type": "execute_result"
    },
    {
     "data": {
      "image/png": "[encoded data removed]",
      "text/plain": [
       "<Figure size 432x288 with 1 Axes>"
      ]
     },
     "metadata": {
      "needs_background": "light"
     },
     "output_type": "display_data"
    }
   ],
   "source": [
    "data = np.array(IP_List)\n",
    "m,b = np.polyfit(data[:,0], data[:,1], 1)\n",
    "print(m,b)\n",
    "plt.scatter(data[:,0], data[:,1])"
   ]
  },
  {
   "cell_type": "code",
   "execution_count": 8,
   "metadata": {},
   "outputs": [
    {
     "name": "stdout",
     "output_type": "stream",
     "text": [
      "Ex_meoh\tmeoh[e] --> \n",
      "METOHte\tmeoh[c] <=> meoh[e]\n"
     ]
    }
   ],
   "source": [
    "[print('{}\\t{}'.format(rct.id, rct.reaction)) for rct in model.metabolites.get_by_id('meoh[e]').reactions];"
   ]
  },
  {
   "cell_type": "code",
   "execution_count": 68,
   "metadata": {},
   "outputs": [],
   "source": [
    "bio = np.linspace(.0,.16,10)\n",
    "Substrate = 'meoh'\n",
    "Product = 'succ[c]' #isoprene[c]\n",
    "Cnum = countCinFormula(model.metabolites.get_by_id(Product).formula)\n",
    "flux=10\n",
    "Suc_List = list()\n",
    "for bioi in bio:\n",
    "    with model as md:\n",
    "        md.reactions.get_by_id('BIOMASS').lower_bound = bioi\n",
    "        md = set_ObjGSMM(md, Product)\n",
    "        md = set_SubiOpol(md, [Substrate], flux)\n",
    "        sol = md.optimize()\n",
    "        Yield = sol.fluxes['DM_{}'.format(Product)]*Cnum/flux\n",
    "        Suc_List.append([bioi, Yield])"
   ]
  },
  {
   "cell_type": "code",
   "execution_count": 67,
   "metadata": {},
   "outputs": [
    {
     "name": "stderr",
     "output_type": "stream",
     "text": [
      "/home/ulf/anaconda3/envs/iambjudas/lib/python3.9/site-packages/cobra/util/solver.py:554: UserWarning: Solver status is 'infeasible'.\n",
      "  warn(f\"Solver status is '{status}'.\", UserWarning)\n"
     ]
    }
   ],
   "source": [
    "bio = np.linspace(.0,.16,10)\n",
    "Substrate = 'meoh'\n",
    "Product = 'isoprene[c]' \n",
    "Cnum = countCinFormula(model.metabolites.get_by_id(Product).formula)\n",
    "flux=10\n",
    "IP_List = list()\n",
    "for bioi in bio:\n",
    "    with model as md:\n",
    "        md.reactions.get_by_id('BIOMASS').lower_bound = bioi\n",
    "        md = set_ObjGSMM(md, Product)\n",
    "        md = set_SubiOpol(md, [Substrate], flux)\n",
    "        sol = md.optimize()\n",
    "        Yield = sol.fluxes['DM_{}'.format(Product)]*Cnum/flux\n",
    "        IP_List.append([bioi, Yield])"
   ]
  },
  {
   "cell_type": "code",
   "execution_count": 73,
   "metadata": {},
   "outputs": [
    {
     "name": "stdout",
     "output_type": "stream",
     "text": [
      "-3.473400207748964 0.5471819054976207\n"
     ]
    },
    {
     "data": {
      "image/png": "[encoded data removed]",
      "text/plain": [
       "<Figure size 432x288 with 1 Axes>"
      ]
     },
     "metadata": {},
     "output_type": "display_data"
    }
   ],
   "source": [
    "ipdata = np.array(IP_List)\n",
    "sucdata = np.array(Suc_List)\n",
    "m,n = np.polyfit(ipdata[:,0], ipdata[:,1], 1)\n",
    "a,b = np.polyfit(sucdata[:,0], sucdata[:,1], 1)\n",
    "print(m,n)\n",
    "with plt.xkcd():\n",
    "    plt.plot(ipdata[:,0], ipdata[:,1])\n",
    "    plt.plot(sucdata[:,0], sucdata[:,1])\n",
    "    plt.xlabel('Growth rate, /h')\n",
    "    plt.ylabel('Yield, mmol/mmol[MeOH]')\n",
    "    plt.legend(['Isoprene, Slope~{}'.format(int(m)), 'Succinate, Slope~{}'.format(int(a))])\n",
    "\n",
    "plt.savefig('Yields-VS-Growth_Isoprene+Suc_Opol.png')"
   ]
  }
 ],
 "metadata": {
  "kernelspec": {
   "display_name": "iambjudas",
   "language": "python",
   "name": "iambjudas"
  },
  "language_info": {
   "codemirror_mode": {
    "name": "ipython",
    "version": 3
   },
   "file_extension": ".py",
   "mimetype": "text/x-python",
   "name": "python",
   "nbconvert_exporter": "python",
   "pygments_lexer": "ipython3",
   "version": "3.9.7"
  }
 },
 "nbformat": 4,
 "nbformat_minor": 4
}
