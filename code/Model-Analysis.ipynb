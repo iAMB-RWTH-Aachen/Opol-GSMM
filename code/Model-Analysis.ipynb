{
 "cells": [
  {
   "cell_type": "markdown",
   "metadata": {},
   "source": [
    "# Model Analysis\n",
    "\n",
    "The script guides through the counting of reactions in each compartment and the generation of the Venn diagramm for reaction overlap of the two K. phaffii models iMT1026, iRY1243 and the O. polymorpha model iUL909."
   ]
  },
  {
   "cell_type": "code",
   "execution_count": null,
   "metadata": {},
   "outputs": [],
   "source": [
    "import sys # loading commands to control/navigate within the system architecture\n",
    "# Loading pandas, a library for data manipulation\n",
    "import os\n",
    "import xlrd\n",
    "import pandas as pd\n",
    "# import lxml\n",
    "\n",
    "# Loading numpy, a library fo manipulation of numbers\n",
    "import numpy as np\n",
    "\n",
    "# loading matplotlib, a library for visualization\n",
    "import matplotlib.pyplot as plt\n",
    "%matplotlib inline\n",
    "\n",
    "# loading cobrapy, a library dedicated to the analysis of genome scale metabolic models\n",
    "from cobra.io import read_sbml_model, write_sbml_model\n",
    "\n",
    "# additional functions to count and assign reaction in compartments"
   ]
  },
  {
   "cell_type": "code",
   "execution_count": null,
   "metadata": {},
   "outputs": [],
   "source": [
    "from cobra import *\n",
    "(model, errors) = validate_sbml_model(iRY1243_File)"
   ]
  },
  {
   "cell_type": "code",
   "execution_count": null,
   "metadata": {},
   "outputs": [],
   "source": [
    "# generating cobra variable from SBML/xml file\n",
    "# assuming the base path is in 'Simulation'\n",
    "iUL909_File = os.path.join('..','model','iUL909.xml') # os.path.join('..','iUL_versions','iUL959_112718.xml')\n",
    "iUL909 = read_sbml_model(iUL909_File)\n",
    "\n",
    "iMT1026_File = os.path.join('..','data','ReferenceModels','iMT1026v3.xml') # os.path.join('..','iUL_versions','iUL959_112718.xml')\n",
    "iMT1026 = read_sbml_model(iMT1026_File)\n",
    "\n",
    "# iRY1243_File = os.path.join('..','data','ReferenceModels','iRY1243.xml') # os.path.join('..','iUL_versions','iUL959_112718.xml')\n",
    "# iRY1243 = read_sbml_model(iRY1243_File)\n"
   ]
  },
  {
   "cell_type": "markdown",
   "metadata": {},
   "source": [
    "## Counting reactions in compartments"
   ]
  },
  {
   "cell_type": "code",
   "execution_count": null,
   "metadata": {},
   "outputs": [],
   "source": [
    "mycomps = model.compartments\n",
    "CmpRctNum = dict.fromkeys(mycomps,0)\n",
    "CmpRctNam = dict.fromkeys(mycomps,list([]))\n",
    "\n",
    "transport=0\n",
    "for rct in iUL909.reactions:\n",
    "    if len(rct.compartments)==1:\n",
    "        CmpRctNum[list(rct.compartments)[0]] += 1\n",
    "        # apending to empty keys doesnt work, first we fill each\n",
    "        if CmpRctNam[list(rct.compartments)[0]] == []:\n",
    "            CmpRctNam[list(rct.compartments)[0]] = list([rct.name])\n",
    "        else:\n",
    "            CmpRctNam[list(rct.compartments)[0]].append(rct.name)\n",
    "    else:\n",
    "        transport+=1"
   ]
  },
  {
   "cell_type": "code",
   "execution_count": null,
   "metadata": {},
   "outputs": [],
   "source": [
    "CmpRctNum"
   ]
  },
  {
   "cell_type": "code",
   "execution_count": null,
   "metadata": {},
   "outputs": [],
   "source": [
    "iUL909.reactions.ADPtn"
   ]
  },
  {
   "cell_type": "code",
   "execution_count": null,
   "metadata": {},
   "outputs": [],
   "source": [
    "for rct in model.reactions:\n",
    "    print(rct.name)"
   ]
  }
 ],
 "metadata": {
  "kernelspec": {
   "display_name": "Python 3",
   "language": "python",
   "name": "python3"
  },
  "language_info": {
   "codemirror_mode": {
    "name": "ipython",
    "version": 3
   },
   "file_extension": ".py",
   "mimetype": "text/x-python",
   "name": "python",
   "nbconvert_exporter": "python",
   "pygments_lexer": "ipython3",
   "version": "3.7.6"
  }
 },
 "nbformat": 4,
 "nbformat_minor": 4
}
