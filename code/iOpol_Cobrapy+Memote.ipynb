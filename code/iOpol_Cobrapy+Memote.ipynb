{
 "cells": [
  {
   "cell_type": "markdown",
   "metadata": {},
   "source": [
    "# Genome scale model reconstruction of the methylotrophic yeast *Ogataea polymorpha*: Reproduction of simulations of iUL909 with CobraPy Notebook"
   ]
  },
  {
   "cell_type": "markdown",
   "metadata": {},
   "source": [
    "## Introduction\n",
    "\n",
    "This notebook is an extension to the article by Liebal et al., (2020) and reproduces the comparison of experimental growth rates with predictions by the genome scale metabolic model (GSMM) of *Ogataea polymorpha* iUL909. Finaly, the Memote quality check is performed. \n",
    "\n",
    "## Requirements\n",
    "Make sure that the required files are present in the notebook directory. \n",
    "\n",
    "Files:\n",
    " * iUL909.xml: SBML file, Genome scale metabolic model of *O. polymorpha*, relative location `../model/iUL909.xml`\n",
    " * iOpol_Additional_File_2.xlsx: Excel file, contains the literature growth rates and uptake rate in sheet 'Literature_Chemostat', relative location `../data/AdditionalData/iOpol_Additional_File_2.xlsx`\n",
    " \n",
    "Dependencies:\n",
    " * CPython 3.7.6\n",
    " * IPython 7.12.0\n",
    " * ipywidgets 7.5.1\n",
    " * matplotlib 3.1.3\n",
    " * numpy 1.18.1\n",
    " * pandas 1.0.1\n",
    " * cobra 0.17.1\n",
    " * memote 0.10.2\n",
    "\n",
    "## Set-up compute environment \n",
    "\n",
    "In the following cell the python environment is set up. If CobraPy and Memote are not already downloaded then install them using pip or use the following command to download the packages them from the cell:\n",
    "`!{sys.executable} -m pip install cobra`"
   ]
  },
  {
   "cell_type": "code",
   "execution_count": 1,
   "metadata": {},
   "outputs": [],
   "source": [
    "import sys # loading commands to control/navigate within the system architecture\n",
    "# Loading pandas, a library for data manipulation\n",
    "import os\n",
    "import xlrd\n",
    "import pandas as pd\n",
    "# import lxml\n",
    "\n",
    "# Loading numpy, a library fo manipulation of numbers\n",
    "import numpy as np\n",
    "\n",
    "# loading matplotlib, a library for visualization\n",
    "import matplotlib.pyplot as plt\n",
    "%matplotlib inline\n",
    "\n",
    "# loading cobrapy, a library dedicated to the analysis of genome scale metabolic models\n",
    "from cobra.io import read_sbml_model, write_sbml_model\n",
    "\n",
    "# loading Memote, quality assessment of GSMM\n",
    "from memote import test_model, snapshot_report"
   ]
  },
  {
   "cell_type": "markdown",
   "metadata": {},
   "source": [
    "## Data loading\n",
    "\n",
    "Now, the external data is integrated. The excel-sheet is parsed and the GSMM file is converted to a model variable."
   ]
  },
  {
   "cell_type": "code",
   "execution_count": 2,
   "metadata": {},
   "outputs": [
    {
     "data": {
      "text/html": [
       "<div>\n",
       "<style scoped>\n",
       "    .dataframe tbody tr th:only-of-type {\n",
       "        vertical-align: middle;\n",
       "    }\n",
       "\n",
       "    .dataframe tbody tr th {\n",
       "        vertical-align: top;\n",
       "    }\n",
       "\n",
       "    .dataframe thead th {\n",
       "        text-align: right;\n",
       "    }\n",
       "</style>\n",
       "<table border=\"1\" class=\"dataframe\">\n",
       "  <thead>\n",
       "    <tr style=\"text-align: right;\">\n",
       "      <th></th>\n",
       "      <th>Substrate</th>\n",
       "      <th>Exchange</th>\n",
       "      <th>uptake rate (mmol/gCDW/h)</th>\n",
       "      <th>growth rate (/h)</th>\n",
       "      <th>yield (gCDW/gMeOH)</th>\n",
       "      <th>source</th>\n",
       "    </tr>\n",
       "  </thead>\n",
       "  <tbody>\n",
       "    <tr>\n",
       "      <th>0</th>\n",
       "      <td>Glucose</td>\n",
       "      <td>Ex_glc_D</td>\n",
       "      <td>5.900000</td>\n",
       "      <td>0.600</td>\n",
       "      <td>NaN</td>\n",
       "      <td>Lehnen et al. (10.1016/j.meteno.2017.07.001)</td>\n",
       "    </tr>\n",
       "    <tr>\n",
       "      <th>1</th>\n",
       "      <td>Methanol</td>\n",
       "      <td>Ex_meoh</td>\n",
       "      <td>2.343750</td>\n",
       "      <td>0.024</td>\n",
       "      <td>0.32</td>\n",
       "      <td>van Dijken et al. (Fig.6)(10.1007/BF00446560)</td>\n",
       "    </tr>\n",
       "    <tr>\n",
       "      <th>2</th>\n",
       "      <td>Methanol</td>\n",
       "      <td>Ex_meoh</td>\n",
       "      <td>2.935606</td>\n",
       "      <td>0.031</td>\n",
       "      <td>0.33</td>\n",
       "      <td>van Dijken et al. (Fig.6)(10.1007/BF00446560)</td>\n",
       "    </tr>\n",
       "    <tr>\n",
       "      <th>3</th>\n",
       "      <td>Methanol</td>\n",
       "      <td>Ex_meoh</td>\n",
       "      <td>4.285714</td>\n",
       "      <td>0.048</td>\n",
       "      <td>0.35</td>\n",
       "      <td>van Dijken et al. (Fig.6)(10.1007/BF00446560)</td>\n",
       "    </tr>\n",
       "    <tr>\n",
       "      <th>4</th>\n",
       "      <td>Methanol</td>\n",
       "      <td>Ex_meoh</td>\n",
       "      <td>5.827703</td>\n",
       "      <td>0.069</td>\n",
       "      <td>0.37</td>\n",
       "      <td>van Dijken et al. (Fig.6)(10.1007/BF00446560)</td>\n",
       "    </tr>\n",
       "    <tr>\n",
       "      <th>5</th>\n",
       "      <td>Methanol</td>\n",
       "      <td>Ex_meoh</td>\n",
       "      <td>6.578947</td>\n",
       "      <td>0.080</td>\n",
       "      <td>0.38</td>\n",
       "      <td>van Dijken et al. (Fig.6)(10.1007/BF00446560)</td>\n",
       "    </tr>\n",
       "    <tr>\n",
       "      <th>6</th>\n",
       "      <td>Methanol</td>\n",
       "      <td>Ex_meoh</td>\n",
       "      <td>9.868421</td>\n",
       "      <td>0.120</td>\n",
       "      <td>0.38</td>\n",
       "      <td>van Dijken et al. (Fig.6)(10.1007/BF00446560)</td>\n",
       "    </tr>\n",
       "    <tr>\n",
       "      <th>7</th>\n",
       "      <td>Methanol</td>\n",
       "      <td>Ex_meoh</td>\n",
       "      <td>14.285714</td>\n",
       "      <td>0.160</td>\n",
       "      <td>0.35</td>\n",
       "      <td>van Dijken et al. (Fig.6)(10.1007/BF00446560)</td>\n",
       "    </tr>\n",
       "    <tr>\n",
       "      <th>8</th>\n",
       "      <td>Glycerol</td>\n",
       "      <td>Ex_glyc</td>\n",
       "      <td>7.125407</td>\n",
       "      <td>0.420</td>\n",
       "      <td>0.64</td>\n",
       "      <td>growth rate: de Koning et al. (10.1007/BF00456...</td>\n",
       "    </tr>\n",
       "  </tbody>\n",
       "</table>\n",
       "</div>"
      ],
      "text/plain": [
       "  Substrate  Exchange  uptake rate (mmol/gCDW/h)  growth rate (/h)  \\\n",
       "0   Glucose  Ex_glc_D                   5.900000             0.600   \n",
       "1  Methanol   Ex_meoh                   2.343750             0.024   \n",
       "2  Methanol   Ex_meoh                   2.935606             0.031   \n",
       "3  Methanol   Ex_meoh                   4.285714             0.048   \n",
       "4  Methanol   Ex_meoh                   5.827703             0.069   \n",
       "5  Methanol   Ex_meoh                   6.578947             0.080   \n",
       "6  Methanol   Ex_meoh                   9.868421             0.120   \n",
       "7  Methanol   Ex_meoh                  14.285714             0.160   \n",
       "8  Glycerol   Ex_glyc                   7.125407             0.420   \n",
       "\n",
       "   yield (gCDW/gMeOH)                                             source  \n",
       "0                 NaN       Lehnen et al. (10.1016/j.meteno.2017.07.001)  \n",
       "1                0.32      van Dijken et al. (Fig.6)(10.1007/BF00446560)  \n",
       "2                0.33      van Dijken et al. (Fig.6)(10.1007/BF00446560)  \n",
       "3                0.35      van Dijken et al. (Fig.6)(10.1007/BF00446560)  \n",
       "4                0.37      van Dijken et al. (Fig.6)(10.1007/BF00446560)  \n",
       "5                0.38      van Dijken et al. (Fig.6)(10.1007/BF00446560)  \n",
       "6                0.38      van Dijken et al. (Fig.6)(10.1007/BF00446560)  \n",
       "7                0.35      van Dijken et al. (Fig.6)(10.1007/BF00446560)  \n",
       "8                0.64  growth rate: de Koning et al. (10.1007/BF00456...  "
      ]
     },
     "execution_count": 2,
     "metadata": {},
     "output_type": "execute_result"
    }
   ],
   "source": [
    "# assuming the base path is in 'Simulation'\n",
    "myxls = os.path.join('..','data','AdditionalData','iOpol_Additional_File_2.xlsx')\n",
    "x1 = pd.ExcelFile(myxls)\n",
    "df1 = x1.parse('Literature_Chemostat')\n",
    "df1.head(9)"
   ]
  },
  {
   "cell_type": "markdown",
   "metadata": {},
   "source": [
    "## Model loading"
   ]
  },
  {
   "cell_type": "code",
   "execution_count": 3,
   "metadata": {
    "scrolled": true
   },
   "outputs": [
    {
     "data": {
      "text/html": [
       "\n",
       "        <table>\n",
       "            <tr>\n",
       "                <td><strong>Name</strong></td>\n",
       "                <td>COBRAModel</td>\n",
       "            </tr><tr>\n",
       "                <td><strong>Memory address</strong></td>\n",
       "                <td>0x07f94d18b53d0</td>\n",
       "            </tr><tr>\n",
       "                <td><strong>Number of metabolites</strong></td>\n",
       "                <td>1637</td>\n",
       "            </tr><tr>\n",
       "                <td><strong>Number of reactions</strong></td>\n",
       "                <td>2263</td>\n",
       "            </tr><tr>\n",
       "                <td><strong>Number of groups</strong></td>\n",
       "                <td>39</td>\n",
       "            </tr><tr>\n",
       "                <td><strong>Objective expression</strong></td>\n",
       "                <td>1.0*BIOMASS - 1.0*BIOMASS_reverse_69053</td>\n",
       "            </tr><tr>\n",
       "                <td><strong>Compartments</strong></td>\n",
       "                <td>c, m, r, e, x, v, n, g, i</td>\n",
       "            </tr>\n",
       "          </table>"
      ],
      "text/plain": [
       "<Model COBRAModel at 0x7f94d18b53d0>"
      ]
     },
     "execution_count": 3,
     "metadata": {},
     "output_type": "execute_result"
    }
   ],
   "source": [
    "# generating cobra variable from SBML/xml file\n",
    "# assuming the base path is in 'Simulation'\n",
    "myFile = os.path.join('..','model','iUL909.xml') # os.path.join('..','iUL_versions','iUL959_112718.xml')\n",
    "model = read_sbml_model(myFile)\n",
    "# peroxisomal transaldolase reaction increases biomass unrealistically, setting reverse reaction to zero\n",
    "# model.reactions.TALAx.upper_bound = 1000\n",
    "model"
   ]
  },
  {
   "cell_type": "markdown",
   "metadata": {},
   "source": [
    "## Function definitions\n",
    "\n",
    "We are testing three different growth conditions with substrates methanol, glycerol, and glucose. For each of the substrates, the corresponding exchange rate has to be activated, the approriate biomass composition formula has to be selected and exchange reactions for non-used substrates need to be closed."
   ]
  },
  {
   "cell_type": "code",
   "execution_count": 4,
   "metadata": {},
   "outputs": [
    {
     "name": "stdout",
     "output_type": "stream",
     "text": [
      "Growth functions defined.\n"
     ]
    }
   ],
   "source": [
    "def AdaptMethanol(model, meoh_up):\n",
    "  # setting uptake reactions right\n",
    "  model.reactions.Ex_glc_D.lower_bound = 0\n",
    "  model.reactions.Ex_glyc.lower_bound = 0\n",
    "  model.reactions.Ex_meoh.lower_bound = -np.abs(meoh_up)\n",
    "  # setting additional biomass composition\n",
    "  model.reactions.LIPIDS_meoh.upper_bound = 1000\n",
    "  model.reactions.PROTEINS_meoh.upper_bound = 1000\n",
    "  model.reactions.STEROLS_meoh.upper_bound = 1000\n",
    "  model.reactions.BIOMASS_meoh.upper_bound = 1000\n",
    "  # deactivating Glc-based biomass composition\n",
    "  model.reactions.LIPIDS.upper_bound = 0\n",
    "  model.reactions.PROTEINS.upper_bound = 0\n",
    "  model.reactions.STEROLS.upper_bound = 0\n",
    "  model.reactions.BIOMASS.upper_bound = 0  \n",
    "  model.objective = 'BIOMASS_meoh'\n",
    "  return model\n",
    "\n",
    "def AdaptGlucose(model, glc_up):\n",
    "  # setting uptake reactions right\n",
    "  model.reactions.Ex_meoh.lower_bound = 0\n",
    "  model.reactions.Ex_glyc.lower_bound = 0\n",
    "  model.reactions.Ex_glc_D.lower_bound = -np.abs(glc_up)\n",
    "  # setting additional biomass composition\n",
    "  model.reactions.LIPIDS.upper_bound = 1000\n",
    "  model.reactions.PROTEINS.upper_bound = 1000\n",
    "  model.reactions.STEROLS.upper_bound = 1000\n",
    "  model.reactions.BIOMASS.upper_bound = 1000  \n",
    "  # deactivating Glc-based biomass composition\n",
    "  model.reactions.LIPIDS_meoh.upper_bound = 0\n",
    "  model.reactions.PROTEINS_meoh.upper_bound = 0\n",
    "  model.reactions.STEROLS_meoh.upper_bound = 0\n",
    "  model.reactions.BIOMASS_meoh.upper_bound = 0\n",
    "  model.objective = 'BIOMASS'\n",
    "  return model\n",
    "\n",
    "def AdaptGlycerol(model, glyc_up):\n",
    "  # setting uptake reactions right\n",
    "  model.reactions.Ex_meoh.lower_bound = 0;\n",
    "  model.reactions.Ex_glc_D.lower_bound = 0;\n",
    "  model.reactions.Ex_glyc.lower_bound = -np.abs(glyc_up)\n",
    "  # setting additional biomass composition\n",
    "  model.reactions.LIPIDS.upper_bound = 1000\n",
    "  model.reactions.PROTEINS.upper_bound = 1000\n",
    "  model.reactions.STEROLS.upper_bound = 1000\n",
    "  model.reactions.BIOMASS_glyc.upper_bound = 1000  \n",
    "  # deactivating Glc-based biomass composition\n",
    "  model.reactions.LIPIDS_meoh.upper_bound = 0\n",
    "  model.reactions.PROTEINS_meoh.upper_bound = 0\n",
    "  model.reactions.STEROLS_meoh.upper_bound = 0\n",
    "  model.reactions.BIOMASS_meoh.upper_bound = 0\n",
    "  model.objective = 'BIOMASS_glyc'\n",
    "  return model\n",
    "\n",
    "print('Growth functions defined.')"
   ]
  },
  {
   "cell_type": "markdown",
   "metadata": {},
   "source": [
    "## Simulation\n",
    "\n",
    "Here, we start the simulation loop. For all substrates we use the substrate uptake rate and use the functions defined previously to update the model. The final growth rate is stored, and is then used in a plot versus the experimentally observed growth."
   ]
  },
  {
   "cell_type": "code",
   "execution_count": 5,
   "metadata": {},
   "outputs": [
    {
     "name": "stdout",
     "output_type": "stream",
     "text": [
      "0\n",
      "1\n",
      "2\n",
      "3\n",
      "4\n",
      "5\n",
      "6\n",
      "7\n",
      "8\n"
     ]
    }
   ],
   "source": [
    "model_loop = model.copy()\n",
    "growth_simulated = [];\n",
    "for index, row in df1.iterrows():\n",
    "  print(index)\n",
    "  if row['Substrate'] == 'Methanol':\n",
    "    model_loop = AdaptMethanol(model_loop, row['uptake rate (mmol/gCDW/h)'])\n",
    "  elif row['Substrate'] == 'Glucose':\n",
    "    model_loop = AdaptGlucose(model_loop, row['uptake rate (mmol/gCDW/h)'])\n",
    "  elif row['Substrate'] == 'Glycerol':\n",
    "    model_loop = AdaptGlycerol(model_loop, row['uptake rate (mmol/gCDW/h)'])\n",
    "  else:\n",
    "    print('substrate not considered')      \n",
    "  model_loop.optimize()\n",
    "  growth_simulated.append(model_loop.objective.value)\n"
   ]
  },
  {
   "cell_type": "markdown",
   "metadata": {},
   "source": [
    "## Visualization"
   ]
  },
  {
   "cell_type": "code",
   "execution_count": 6,
   "metadata": {},
   "outputs": [
    {
     "data": {
      "image/png": "[encoded data removed]",
      "text/plain": [
       "<Figure size 432x288 with 1 Axes>"
      ]
     },
     "metadata": {
      "needs_background": "light"
     },
     "output_type": "display_data"
    }
   ],
   "source": [
    "plt.rc('axes', labelsize=12) \n",
    "plt.rc('xtick', labelsize=10) \n",
    "plt.rc('ytick', labelsize=10) \n",
    "plt.rc('legend', fontsize=12) \n",
    "# plt.figure(figsize=(4,3))\n",
    "plt.scatter(df1['growth rate (/h)'][1:8], growth_simulated[1:8], s=100, c='k', marker='o', );\n",
    "plt.scatter(df1['growth rate (/h)'][8], growth_simulated[8], s=100, c='k', marker='s');\n",
    "plt.scatter(df1['growth rate (/h)'][0], growth_simulated[0], s=100, c='k', marker='x');\n",
    "plt.xlabel('Experiment (/h)');\n",
    "plt.ylabel('Simulation (/h)');\n",
    "myline = np.linspace(0,np.max(growth_simulated),10);\n",
    "plt.plot(myline,myline,'k--');\n",
    "# plt.title('Growth rate comparison');\n",
    "# correlation coefficient between experimental and simulated data\n",
    "R2 = np.corrcoef(np.array([growth_simulated[0:9],df1['growth rate (/h)'][0:9]]))\n",
    "R2Legend = 'Optimum, R2(X-Y) = %.4f'%(R2[0,1]) \n",
    "plt.legend([R2Legend,'Methanol (van Dijken)','Glycerol (deKoning, Moon)','Glucose (Lehnen)'], loc=2);\n",
    "plt.style.use('seaborn-paper')\n",
    "# plt.savefig('iOpol_growth_exp-vs-sim.png', bbox_inches='tight')\n",
    "# plt.savefig('iOpol_growth_exp-vs-sim.pdf', bbox_inches='tight')"
   ]
  },
  {
   "cell_type": "markdown",
   "metadata": {},
   "source": [
    "## Memote quality test\n",
    "\n",
    "Memote performs quality assessments of genome scale metabolic models. The process can take a while, around 5 min."
   ]
  },
  {
   "cell_type": "code",
   "execution_count": null,
   "metadata": {},
   "outputs": [],
   "source": [
    "mem_return, mem_result = test_model(model, results=True)\n",
    "with open('iOpol_MemoteReport.html', 'w') as f:\n",
    "    f.write(snapshot_report(mem_result))\n",
    "\n"
   ]
  },
  {
   "cell_type": "markdown",
   "metadata": {},
   "source": [
    "### Mass balance test"
   ]
  },
  {
   "cell_type": "code",
   "execution_count": null,
   "metadata": {},
   "outputs": [],
   "source": [
    "import json\n",
    "\n",
    "# myFile = os.path.join('..','iUL_versions','iUL959_200810.xml') # os.path.join('..','iUL_versions','frank','out_metadata.xml') # os.path.join('..','iUL_versions','iUL959_112718.xml')\n",
    "# model = read_sbml_model(myFile)\n",
    "mysol = [[reaction.id, reaction.reaction, reaction.check_mass_balance()] for reaction in model.reactions if reaction.check_mass_balance()]\n",
    "print('unbalanced reactions: {}'.format(len(mysol)))\n",
    "df_mysol = pd.DataFrame(mysol, columns=['Abbreviation','Formula','Misbalance'])\n",
    "\n",
    "# deleting reactions with following strings\n",
    "DelStr_all = ['Ex_', 'avg', 'BIOM', 'PROT', 'LIP', 'STER', 'DNA', 'RNA', 'CARB', 'GLYCE']\n",
    "for DelStr in DelStr_all:\n",
    "    indices = [i for i, s in enumerate(list(df_mysol['Abbreviation'])) if DelStr in s]\n",
    "    df_mysol.drop(df_mysol.index[[indices]], inplace=True)\n",
    "    \n",
    "df_mysol.reset_index(inplace=True)\n",
    "df_mysol.to_csv('iOpol_unbalanced.txt', index=False)\n",
    "\n",
    "df_mysol\n"
   ]
  },
  {
   "cell_type": "code",
   "execution_count": 7,
   "metadata": {},
   "outputs": [
    {
     "name": "stdout",
     "output_type": "stream",
     "text": [
      "IN_FLUXES IN_FLUXES  OUT_FLUXES OUT_FLUXES OBJECTIVES OBJECTIVES\n",
      "    ID       FLUX        ID        FLUX        ID        FLUX   \n",
      "    o2[e]    18.5        h2o[e]    33.7      BIOMASS     1.12   \n",
      " glc_D[e]      10        co2[e]      20                   nan   \n",
      "   nh4[e]     6.4          h[e]    6.27                   nan   \n",
      "              nan    biomass[e]    1.12                   nan   \n",
      "                  PERCENT  FLUX         REACTION_STRING         \n",
      "RXN_STAT  ID                                                    \n",
      "PRODUCING ARGSL    49.9   0.252  argsuc[c] <=> arg_L[c] + fum[c]\n",
      "          ADSL1r   26.4   0.133     dcamp[c] <=> amp[c] + fum[c]\n",
      "          ADSL2r   23.7   0.119  25aics[c] <=> aicar[c] + fum[c]\n",
      "CONSUMING FUM       100   0.504     fum[c] + h2o[c] <=> mal_L[c]\n"
     ]
    },
    {
     "name": "stderr",
     "output_type": "stream",
     "text": [
      "cobra/core/summary/summary.py:206 \u001b[1;31mUserWarning\u001b[0m: Setting float_format to anything other than None will cause nan to be present in the output.\n",
      "cobra/core/summary/summary.py:206 \u001b[1;31mUserWarning\u001b[0m: Setting float_format to anything other than None will cause nan to be present in the output.\n"
     ]
    }
   ],
   "source": [
    "model.optimize()\n",
    "print(model.summary())\n",
    "[reaction.flux for reaction in model.reactions.query('TRNA')]\n",
    "print(model.metabolites.get_by_id('fum[c]').summary())"
   ]
  },
  {
   "cell_type": "markdown",
   "metadata": {},
   "source": [
    "### Dependencies and versions\n",
    "The code below was used to identify the versions of dependent packages."
   ]
  },
  {
   "cell_type": "code",
   "execution_count": null,
   "metadata": {},
   "outputs": [],
   "source": [
    "%load_ext watermark\n",
    "%watermark -v -m -p ipywidgets,matplotlib,numpy,pandas,cobra,memote,watermark"
   ]
  }
 ],
 "metadata": {
  "kernelspec": {
   "display_name": "Python 3",
   "language": "python",
   "name": "python3"
  },
  "language_info": {
   "codemirror_mode": {
    "name": "ipython",
    "version": 3
   },
   "file_extension": ".py",
   "mimetype": "text/x-python",
   "name": "python",
   "nbconvert_exporter": "python",
   "pygments_lexer": "ipython3",
   "version": "3.7.6"
  }
 },
 "nbformat": 4,
 "nbformat_minor": 4
}
