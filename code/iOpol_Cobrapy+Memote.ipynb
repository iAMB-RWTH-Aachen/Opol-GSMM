{
 "cells": [
  {
   "cell_type": "markdown",
   "metadata": {},
   "source": [
    "# Genome scale model reconstruction of the methylotrophic yeast *Ogataea polymorpha*: Reproduction of simulations of iUL909 with CobraPy Notebook"
   ]
  },
  {
   "cell_type": "markdown",
   "metadata": {},
   "source": [
    "## Introduction\n",
    "\n",
    "This notebook is an extension to the article by Liebal et al., (2020) and reproduces the comparison of experimental growth rates with predictions by the genome scale metabolic model (GSMM) of *Ogataea polymorpha* iUL909. Finaly, the Memote quality check is performed. \n",
    "\n",
    "## Requirements\n",
    "Make sure that the required files are present in the notebook directory. \n",
    "\n",
    "Files:\n",
    " * iUL909.xml: SBML file, Genome scale metabolic model of *O. polymorpha*, relative location `../model/iUL909.xml`\n",
    " * iOpol_Additional_File_2.xlsx: Excel file, contains the literature growth rates and uptake rate in sheet 'Literature_Chemostat', relative location `../data/AdditionalData/iOpol_Additional_File_2.xlsx`\n",
    " \n",
    "Dependencies:\n",
    " * CPython 3.7.6\n",
    " * IPython 7.12.0\n",
    " * ipywidgets 7.5.1\n",
    " * matplotlib 3.1.3\n",
    " * numpy 1.18.1\n",
    " * pandas 1.0.1\n",
    " * cobra 0.17.1\n",
    " * memote 0.10.2\n",
    "\n",
    "## Set-up compute environment \n",
    "\n",
    "In the following cell the python environment is set up. If CobraPy and Memote are not already downloaded then install them using pip or use the following command to download the packages them from the cell:\n",
    "`!{sys.executable} -m pip install cobra`"
   ]
  },
  {
   "cell_type": "code",
   "execution_count": null,
   "metadata": {},
   "outputs": [],
   "source": [
    "import sys # loading commands to control/navigate within the system architecture\n",
    "# Loading pandas, a library for data manipulation\n",
    "import os\n",
    "import xlrd\n",
    "import pandas as pd\n",
    "# import lxml\n",
    "\n",
    "# Loading numpy, a library fo manipulation of numbers\n",
    "import numpy as np\n",
    "\n",
    "# loading matplotlib, a library for visualization\n",
    "import matplotlib.pyplot as plt\n",
    "%matplotlib inline\n",
    "\n",
    "# loading cobrapy, a library dedicated to the analysis of genome scale metabolic models\n",
    "from cobra.io import read_sbml_model, write_sbml_model\n",
    "\n",
    "# loading Memote, quality assessment of GSMM\n",
    "from memote import test_model, snapshot_report"
   ]
  },
  {
   "cell_type": "markdown",
   "metadata": {},
   "source": [
    "## Data loading\n",
    "\n",
    "Now, the external data is integrated. The excel-sheet is parsed and the GSMM file is converted to a model variable."
   ]
  },
  {
   "cell_type": "code",
   "execution_count": null,
   "metadata": {},
   "outputs": [],
   "source": [
    "# assuming the base path is in 'Simulation'\n",
    "myxls = os.path.join('..','data','AdditionalData','iOpol_Additional_File_2.xlsx')\n",
    "x1 = pd.ExcelFile(myxls)\n",
    "df1 = x1.parse('Literature_Chemostat')\n",
    "df1.head(9)"
   ]
  },
  {
   "cell_type": "markdown",
   "metadata": {},
   "source": [
    "## Model loading"
   ]
  },
  {
   "cell_type": "code",
   "execution_count": null,
   "metadata": {
    "scrolled": true
   },
   "outputs": [],
   "source": [
    "# generating cobra variable from SBML/xml file\n",
    "# assuming the base path is in 'Simulation'\n",
    "myFile = os.path.join('..','model','iUL909.xml') # os.path.join('..','iUL_versions','iUL959_112718.xml')\n",
    "model = read_sbml_model(myFile)\n",
    "# peroxisomal transaldolase reaction increases biomass unrealistically, setting reverse reaction to zero\n",
    "# model.reactions.TALAx.upper_bound = 1000\n",
    "model"
   ]
  },
  {
   "cell_type": "markdown",
   "metadata": {},
   "source": [
    "## Function definitions\n",
    "\n",
    "We are testing three different growth conditions with substrates methanol, glycerol, and glucose. For each of the substrates, the corresponding exchange rate has to be activated, the approriate biomass composition formula has to be selected and exchange reactions for non-used substrates need to be closed."
   ]
  },
  {
   "cell_type": "code",
   "execution_count": null,
   "metadata": {},
   "outputs": [],
   "source": [
    "def AdaptMethanol(model, meoh_up):\n",
    "  # setting uptake reactions right\n",
    "  model.reactions.Ex_glc_D.lower_bound = 0\n",
    "  model.reactions.Ex_glyc.lower_bound = 0\n",
    "  model.reactions.Ex_meoh.lower_bound = -np.abs(meoh_up)\n",
    "  # setting additional biomass composition\n",
    "  model.reactions.LIPIDS_meoh.upper_bound = 1000\n",
    "  model.reactions.PROTEINS_meoh.upper_bound = 1000\n",
    "  model.reactions.STEROLS_meoh.upper_bound = 1000\n",
    "  model.reactions.BIOMASS_meoh.upper_bound = 1000\n",
    "  # deactivating Glc-based biomass composition\n",
    "  model.reactions.LIPIDS.upper_bound = 0\n",
    "  model.reactions.PROTEINS.upper_bound = 0\n",
    "  model.reactions.STEROLS.upper_bound = 0\n",
    "  model.reactions.BIOMASS.upper_bound = 0  \n",
    "  model.objective = 'BIOMASS_meoh'\n",
    "  return model\n",
    "\n",
    "def AdaptGlucose(model, glc_up):\n",
    "  # setting uptake reactions right\n",
    "  model.reactions.Ex_meoh.lower_bound = 0\n",
    "  model.reactions.Ex_glyc.lower_bound = 0\n",
    "  model.reactions.Ex_glc_D.lower_bound = -np.abs(glc_up)\n",
    "  # setting additional biomass composition\n",
    "  model.reactions.LIPIDS.upper_bound = 1000\n",
    "  model.reactions.PROTEINS.upper_bound = 1000\n",
    "  model.reactions.STEROLS.upper_bound = 1000\n",
    "  model.reactions.BIOMASS.upper_bound = 1000  \n",
    "  # deactivating Glc-based biomass composition\n",
    "  model.reactions.LIPIDS_meoh.upper_bound = 0\n",
    "  model.reactions.PROTEINS_meoh.upper_bound = 0\n",
    "  model.reactions.STEROLS_meoh.upper_bound = 0\n",
    "  model.reactions.BIOMASS_meoh.upper_bound = 0\n",
    "  model.objective = 'BIOMASS'\n",
    "  return model\n",
    "\n",
    "def AdaptGlycerol(model, glyc_up):\n",
    "  # setting uptake reactions right\n",
    "  model.reactions.Ex_meoh.lower_bound = 0;\n",
    "  model.reactions.Ex_glc_D.lower_bound = 0;\n",
    "  model.reactions.Ex_glyc.lower_bound = -np.abs(glyc_up)\n",
    "  # setting additional biomass composition\n",
    "  model.reactions.LIPIDS.upper_bound = 1000\n",
    "  model.reactions.PROTEINS.upper_bound = 1000\n",
    "  model.reactions.STEROLS.upper_bound = 1000\n",
    "  model.reactions.BIOMASS_glyc.upper_bound = 1000  \n",
    "  # deactivating Glc-based biomass composition\n",
    "  model.reactions.LIPIDS_meoh.upper_bound = 0\n",
    "  model.reactions.PROTEINS_meoh.upper_bound = 0\n",
    "  model.reactions.STEROLS_meoh.upper_bound = 0\n",
    "  model.reactions.BIOMASS_meoh.upper_bound = 0\n",
    "  model.objective = 'BIOMASS_glyc'\n",
    "  return model\n",
    "\n",
    "print('Growth functions defined.')"
   ]
  },
  {
   "cell_type": "markdown",
   "metadata": {},
   "source": [
    "## Simulation\n",
    "\n",
    "Here, we start the simulation loop. For all substrates we use the substrate uptake rate and use the functions defined previously to update the model. The final growth rate is stored, and is then used in a plot versus the experimentally observed growth."
   ]
  },
  {
   "cell_type": "code",
   "execution_count": null,
   "metadata": {},
   "outputs": [],
   "source": [
    "model_loop = model.copy()\n",
    "growth_simulated = [];\n",
    "for index, row in df1.iterrows():\n",
    "  print(index)\n",
    "  if row['Substrate'] == 'Methanol':\n",
    "    model_loop = AdaptMethanol(model_loop, row['uptake rate (mmol/gCDW/h)'])\n",
    "  elif row['Substrate'] == 'Glucose':\n",
    "    model_loop = AdaptGlucose(model_loop, row['uptake rate (mmol/gCDW/h)'])\n",
    "  elif row['Substrate'] == 'Glycerol':\n",
    "    model_loop = AdaptGlycerol(model_loop, row['uptake rate (mmol/gCDW/h)'])\n",
    "  else:\n",
    "    print('substrate not considered')      \n",
    "  model_loop.optimize()\n",
    "  growth_simulated.append(model_loop.objective.value)\n"
   ]
  },
  {
   "cell_type": "markdown",
   "metadata": {},
   "source": [
    "## Visualization"
   ]
  },
  {
   "cell_type": "code",
   "execution_count": null,
   "metadata": {},
   "outputs": [],
   "source": [
    "plt.rc('axes', labelsize=12) \n",
    "plt.rc('xtick', labelsize=10) \n",
    "plt.rc('ytick', labelsize=10) \n",
    "plt.rc('legend', fontsize=12) \n",
    "# plt.figure(figsize=(4,3))\n",
    "plt.scatter(df1['growth rate (/h)'][1:8], growth_simulated[1:8], s=100, c='k', marker='o', );\n",
    "plt.scatter(df1['growth rate (/h)'][8], growth_simulated[8], s=100, c='k', marker='s');\n",
    "plt.scatter(df1['growth rate (/h)'][0], growth_simulated[0], s=100, c='k', marker='x');\n",
    "plt.xlabel('Experiment (/h)');\n",
    "plt.ylabel('Simulation (/h)');\n",
    "myline = np.linspace(0,np.max(growth_simulated),10);\n",
    "plt.plot(myline,myline,'k--');\n",
    "# plt.title('Growth rate comparison');\n",
    "# correlation coefficient between experimental and simulated data\n",
    "R2 = np.corrcoef(np.array([growth_simulated[0:9],df1['growth rate (/h)'][0:9]]))\n",
    "R2Legend = 'Optimum, R2(X-Y) = %.4f'%(R2[0,1]) \n",
    "plt.legend([R2Legend,'Methanol (van Dijken)','Glycerol (deKoning, Moon)','Glucose (Lehnen)'], loc=2);\n",
    "plt.style.use('seaborn-paper')\n",
    "# plt.savefig('iOpol_growth_exp-vs-sim.png', bbox_inches='tight')\n",
    "# plt.savefig('iOpol_growth_exp-vs-sim.pdf', bbox_inches='tight')"
   ]
  },
  {
   "cell_type": "markdown",
   "metadata": {},
   "source": [
    "## Memote quality test\n",
    "\n",
    "Memote performs quality assessments of genome scale metabolic models. The process can take a while, around 5 min."
   ]
  },
  {
   "cell_type": "code",
   "execution_count": null,
   "metadata": {},
   "outputs": [],
   "source": [
    "mem_return, mem_result = test_model(model, results=True)\n",
    "with open('iOpol_MemoteReport.html', 'w') as f:\n",
    "    f.write(snapshot_report(mem_result))\n",
    "\n"
   ]
  },
  {
   "cell_type": "markdown",
   "metadata": {},
   "source": [
    "### Mass balance test"
   ]
  },
  {
   "cell_type": "code",
   "execution_count": null,
   "metadata": {},
   "outputs": [],
   "source": [
    "import json\n",
    "\n",
    "# myFile = os.path.join('..','iUL_versions','iUL959_200810.xml') # os.path.join('..','iUL_versions','frank','out_metadata.xml') # os.path.join('..','iUL_versions','iUL959_112718.xml')\n",
    "# model = read_sbml_model(myFile)\n",
    "mysol = [[reaction.id, reaction.reaction, reaction.check_mass_balance()] for reaction in model.reactions if reaction.check_mass_balance()]\n",
    "print('unbalanced reactions: {}'.format(len(mysol)))\n",
    "df_mysol = pd.DataFrame(mysol, columns=['Abbreviation','Formula','Misbalance'])\n",
    "\n",
    "# deleting reactions with following strings\n",
    "DelStr_all = ['Ex_', 'avg', 'BIOM', 'PROT', 'LIP', 'STER', 'DNA', 'RNA', 'CARB', 'GLYCE']\n",
    "for DelStr in DelStr_all:\n",
    "    indices = [i for i, s in enumerate(list(df_mysol['Abbreviation'])) if DelStr in s]\n",
    "    df_mysol.drop(df_mysol.index[[indices]], inplace=True)\n",
    "    \n",
    "df_mysol.reset_index(inplace=True)\n",
    "df_mysol.to_csv('iOpol_unbalanced.txt', index=False)\n",
    "\n",
    "df_mysol\n"
   ]
  },
  {
   "cell_type": "code",
   "execution_count": null,
   "metadata": {},
   "outputs": [],
   "source": [
    "model.optimize()\n",
    "print(model.summary())\n",
    "[reaction.flux for reaction in model.reactions.query('TRNA')]\n",
    "print(model.metabolites.get_by_id('fum[c]').summary())"
   ]
  },
  {
   "cell_type": "markdown",
   "metadata": {},
   "source": [
    "### Dependencies and versions\n",
    "The code below was used to identify the versions of dependent packages."
   ]
  },
  {
   "cell_type": "code",
   "execution_count": null,
   "metadata": {},
   "outputs": [],
   "source": [
    "%load_ext watermark\n",
    "%watermark -v -m -p ipywidgets,matplotlib,numpy,pandas,cobra,memote,watermark"
   ]
  }
 ],
 "metadata": {
  "kernelspec": {
   "display_name": "Python 3",
   "language": "python",
   "name": "python3"
  },
  "language_info": {
   "codemirror_mode": {
    "name": "ipython",
    "version": 3
   },
   "file_extension": ".py",
   "mimetype": "text/x-python",
   "name": "python",
   "nbconvert_exporter": "python",
   "pygments_lexer": "ipython3",
   "version": "3.7.6"
  }
 },
 "nbformat": 4,
 "nbformat_minor": 4
}
